{
 "cells": [
  {
   "cell_type": "markdown",
   "id": "11dc802f",
   "metadata": {},
   "source": [
    "# Bird species Classification using Machine Learning"
   ]
  },
  {
   "cell_type": "markdown",
   "id": "6346a4e1",
   "metadata": {},
   "source": [
    "In this project, bird species are classified using machine learning algorithms. There are many distinct kinds of birds, including raptors, terrestrial birds, wading birds, and swimming birds. They are divided into various ecological groupings based on their lifestyles and habitats. various ecological groups' bairds have various outward characteristics. Their skeletal systems are distinct. To categorise the different bird species in my research, I'll use machine learning algorithms like Random Forest and Support Vector Machines. A confusion matrix will be used to evaluate the outcomes. The most effective model will be chosen and used for inferencing. "
   ]
  },
  {
   "cell_type": "markdown",
   "id": "6a75ac91",
   "metadata": {},
   "source": [
    "## The Dataset"
   ]
  },
  {
   "cell_type": "markdown",
   "id": "32c3b144",
   "metadata": {},
   "source": [
    "This dataset contains 420 birds. Each bird is represeneted by 10 measurements which are the features of this dataset. The description is given below.\n",
    "\n",
    "* id - Unique ID for each bird\n",
    "* huml - Length of Humerus\n",
    "* humw - Diameter of Humerus\n",
    "* ulnal - Length of Ulna \n",
    "* ulnaw - Diameter of Ulna\n",
    "* feml - Length of Femur\n",
    "* femw - Diameter of Femur\n",
    "* tibl - Length of Tibiotarsus\n",
    "* tibw - Diameter of Tibiotarsus\n",
    "* tarl - Length of Tarsometatarsus\n",
    "* tarw - Diameter of Tarsometatarsus\n",
    "* type - label for the ecological groups\n",
    "\n",
    "These labels are described as below.\n",
    "\n",
    "* SW: Swimming Birds\n",
    "* W: Wading Birds\n",
    "* T: Terrestrial Birds\n",
    "* R: Raptors\n",
    "* P: Scansorial Birds\n",
    "* SO: Singing Birds"
   ]
  },
  {
   "cell_type": "code",
   "execution_count": 1,
   "id": "3fefd305",
   "metadata": {},
   "outputs": [],
   "source": [
    "#Importing the libraries"
   ]
  },
  {
   "cell_type": "code",
   "execution_count": 1,
   "id": "842b8e76",
   "metadata": {},
   "outputs": [],
   "source": [
    "import pandas as pd\n",
    "import numpy as np\n",
    "import matplotlib.pyplot as plt\n",
    "import seaborn as sns\n",
    "import warnings\n",
    "warnings.filterwarnings('ignore')\n",
    "%matplotlib inline"
   ]
  },
  {
   "cell_type": "code",
   "execution_count": 3,
   "id": "947738d4",
   "metadata": {},
   "outputs": [],
   "source": [
    "# read data from the csv file into a dataframe\n",
    "bird_df = pd.read_csv('/home/msc1/Desktop/MLcoursework/bird.csv')\n",
    "# make a copy of the original data\n",
    "df = bird_df.copy()"
   ]
  },
  {
   "cell_type": "markdown",
   "id": "896684d5",
   "metadata": {},
   "source": [
    "# Exploratory Data Analysis"
   ]
  },
  {
   "cell_type": "markdown",
   "id": "22d0bae0",
   "metadata": {},
   "source": [
    "There are 420 birds in this dataset. Ten measurements, which make up the dataset's characteristics, are used to represent each bird. Following is a description."
   ]
  },
  {
   "cell_type": "code",
   "execution_count": 4,
   "id": "a6dfc8c2",
   "metadata": {},
   "outputs": [
    {
     "data": {
      "text/html": [
       "<div>\n",
       "<style scoped>\n",
       "    .dataframe tbody tr th:only-of-type {\n",
       "        vertical-align: middle;\n",
       "    }\n",
       "\n",
       "    .dataframe tbody tr th {\n",
       "        vertical-align: top;\n",
       "    }\n",
       "\n",
       "    .dataframe thead th {\n",
       "        text-align: right;\n",
       "    }\n",
       "</style>\n",
       "<table border=\"1\" class=\"dataframe\">\n",
       "  <thead>\n",
       "    <tr style=\"text-align: right;\">\n",
       "      <th></th>\n",
       "      <th>id</th>\n",
       "      <th>huml</th>\n",
       "      <th>humw</th>\n",
       "      <th>ulnal</th>\n",
       "      <th>ulnaw</th>\n",
       "      <th>feml</th>\n",
       "      <th>femw</th>\n",
       "      <th>tibl</th>\n",
       "      <th>tibw</th>\n",
       "      <th>tarl</th>\n",
       "      <th>tarw</th>\n",
       "      <th>type</th>\n",
       "    </tr>\n",
       "  </thead>\n",
       "  <tbody>\n",
       "    <tr>\n",
       "      <th>0</th>\n",
       "      <td>0</td>\n",
       "      <td>80.78</td>\n",
       "      <td>6.68</td>\n",
       "      <td>72.01</td>\n",
       "      <td>4.88</td>\n",
       "      <td>41.81</td>\n",
       "      <td>3.70</td>\n",
       "      <td>5.50</td>\n",
       "      <td>4.03</td>\n",
       "      <td>38.70</td>\n",
       "      <td>3.84</td>\n",
       "      <td>SW</td>\n",
       "    </tr>\n",
       "    <tr>\n",
       "      <th>1</th>\n",
       "      <td>1</td>\n",
       "      <td>88.91</td>\n",
       "      <td>6.63</td>\n",
       "      <td>80.53</td>\n",
       "      <td>5.59</td>\n",
       "      <td>47.04</td>\n",
       "      <td>4.30</td>\n",
       "      <td>80.22</td>\n",
       "      <td>4.51</td>\n",
       "      <td>41.50</td>\n",
       "      <td>4.01</td>\n",
       "      <td>SW</td>\n",
       "    </tr>\n",
       "    <tr>\n",
       "      <th>2</th>\n",
       "      <td>2</td>\n",
       "      <td>79.97</td>\n",
       "      <td>6.37</td>\n",
       "      <td>69.26</td>\n",
       "      <td>5.28</td>\n",
       "      <td>43.07</td>\n",
       "      <td>3.90</td>\n",
       "      <td>75.35</td>\n",
       "      <td>4.04</td>\n",
       "      <td>38.31</td>\n",
       "      <td>3.34</td>\n",
       "      <td>SW</td>\n",
       "    </tr>\n",
       "    <tr>\n",
       "      <th>3</th>\n",
       "      <td>3</td>\n",
       "      <td>77.65</td>\n",
       "      <td>5.70</td>\n",
       "      <td>65.76</td>\n",
       "      <td>4.77</td>\n",
       "      <td>40.04</td>\n",
       "      <td>3.52</td>\n",
       "      <td>69.17</td>\n",
       "      <td>3.40</td>\n",
       "      <td>35.78</td>\n",
       "      <td>3.41</td>\n",
       "      <td>SW</td>\n",
       "    </tr>\n",
       "    <tr>\n",
       "      <th>4</th>\n",
       "      <td>4</td>\n",
       "      <td>62.80</td>\n",
       "      <td>4.84</td>\n",
       "      <td>52.09</td>\n",
       "      <td>3.73</td>\n",
       "      <td>33.95</td>\n",
       "      <td>2.72</td>\n",
       "      <td>56.27</td>\n",
       "      <td>2.96</td>\n",
       "      <td>31.88</td>\n",
       "      <td>3.13</td>\n",
       "      <td>SW</td>\n",
       "    </tr>\n",
       "  </tbody>\n",
       "</table>\n",
       "</div>"
      ],
      "text/plain": [
       "   id   huml  humw  ulnal  ulnaw   feml  femw   tibl  tibw   tarl  tarw type\n",
       "0   0  80.78  6.68  72.01   4.88  41.81  3.70   5.50  4.03  38.70  3.84   SW\n",
       "1   1  88.91  6.63  80.53   5.59  47.04  4.30  80.22  4.51  41.50  4.01   SW\n",
       "2   2  79.97  6.37  69.26   5.28  43.07  3.90  75.35  4.04  38.31  3.34   SW\n",
       "3   3  77.65  5.70  65.76   4.77  40.04  3.52  69.17  3.40  35.78  3.41   SW\n",
       "4   4  62.80  4.84  52.09   3.73  33.95  2.72  56.27  2.96  31.88  3.13   SW"
      ]
     },
     "execution_count": 4,
     "metadata": {},
     "output_type": "execute_result"
    }
   ],
   "source": [
    "# show top rows of the dataframe\n",
    "df.head()"
   ]
  },
  {
   "cell_type": "code",
   "execution_count": 5,
   "id": "2ad5132f",
   "metadata": {},
   "outputs": [
    {
     "data": {
      "text/plain": [
       "Index(['id', 'huml', 'humw', 'ulnal', 'ulnaw', 'feml', 'femw', 'tibl', 'tibw',\n",
       "       'tarl', 'tarw', 'type'],\n",
       "      dtype='object')"
      ]
     },
     "execution_count": 5,
     "metadata": {},
     "output_type": "execute_result"
    }
   ],
   "source": [
    "# prints the list of columns present in the dataframe\n",
    "df.columns"
   ]
  },
  {
   "cell_type": "markdown",
   "id": "c44284f3",
   "metadata": {},
   "source": [
    "This function outputs a summary of the dataframe's information. This dataframe has 12 columns and 420 rows. The columns' 10 float64, 1 int64, and 1 object type data types. "
   ]
  },
  {
   "cell_type": "code",
   "execution_count": 6,
   "id": "bdaf0173",
   "metadata": {},
   "outputs": [
    {
     "name": "stdout",
     "output_type": "stream",
     "text": [
      "<class 'pandas.core.frame.DataFrame'>\n",
      "RangeIndex: 420 entries, 0 to 419\n",
      "Data columns (total 12 columns):\n",
      " #   Column  Non-Null Count  Dtype  \n",
      "---  ------  --------------  -----  \n",
      " 0   id      420 non-null    int64  \n",
      " 1   huml    419 non-null    float64\n",
      " 2   humw    419 non-null    float64\n",
      " 3   ulnal   417 non-null    float64\n",
      " 4   ulnaw   418 non-null    float64\n",
      " 5   feml    418 non-null    float64\n",
      " 6   femw    419 non-null    float64\n",
      " 7   tibl    418 non-null    float64\n",
      " 8   tibw    419 non-null    float64\n",
      " 9   tarl    419 non-null    float64\n",
      " 10  tarw    419 non-null    float64\n",
      " 11  type    420 non-null    object \n",
      "dtypes: float64(10), int64(1), object(1)\n",
      "memory usage: 39.5+ KB\n"
     ]
    }
   ],
   "source": [
    "df.info()"
   ]
  },
  {
   "cell_type": "markdown",
   "id": "46b75274",
   "metadata": {},
   "source": [
    "The 'id' column will be removed because it has no bearing on the dataset or the results."
   ]
  },
  {
   "cell_type": "code",
   "execution_count": 7,
   "id": "db0b4140",
   "metadata": {},
   "outputs": [],
   "source": [
    "# drop id column\n",
    "df = df.drop('id', 1)"
   ]
  },
  {
   "cell_type": "markdown",
   "id": "e9f3e338",
   "metadata": {},
   "source": [
    "The total count, mean value, standard deviation, minimum, 25th percentile, 50th percentile, 75th percentile, and maximum values of each column are listed below."
   ]
  },
  {
   "cell_type": "code",
   "execution_count": 8,
   "id": "371465f8",
   "metadata": {
    "scrolled": true
   },
   "outputs": [
    {
     "data": {
      "text/html": [
       "<div>\n",
       "<style scoped>\n",
       "    .dataframe tbody tr th:only-of-type {\n",
       "        vertical-align: middle;\n",
       "    }\n",
       "\n",
       "    .dataframe tbody tr th {\n",
       "        vertical-align: top;\n",
       "    }\n",
       "\n",
       "    .dataframe thead th {\n",
       "        text-align: right;\n",
       "    }\n",
       "</style>\n",
       "<table border=\"1\" class=\"dataframe\">\n",
       "  <thead>\n",
       "    <tr style=\"text-align: right;\">\n",
       "      <th></th>\n",
       "      <th>count</th>\n",
       "      <th>mean</th>\n",
       "      <th>std</th>\n",
       "      <th>min</th>\n",
       "      <th>25%</th>\n",
       "      <th>50%</th>\n",
       "      <th>75%</th>\n",
       "      <th>max</th>\n",
       "    </tr>\n",
       "  </thead>\n",
       "  <tbody>\n",
       "    <tr>\n",
       "      <th>huml</th>\n",
       "      <td>419.0</td>\n",
       "      <td>64.650501</td>\n",
       "      <td>53.834549</td>\n",
       "      <td>9.85</td>\n",
       "      <td>25.1700</td>\n",
       "      <td>44.180</td>\n",
       "      <td>90.310</td>\n",
       "      <td>420.00</td>\n",
       "    </tr>\n",
       "    <tr>\n",
       "      <th>humw</th>\n",
       "      <td>419.0</td>\n",
       "      <td>4.370573</td>\n",
       "      <td>2.854617</td>\n",
       "      <td>1.14</td>\n",
       "      <td>2.1900</td>\n",
       "      <td>3.500</td>\n",
       "      <td>5.810</td>\n",
       "      <td>17.84</td>\n",
       "    </tr>\n",
       "    <tr>\n",
       "      <th>ulnal</th>\n",
       "      <td>417.0</td>\n",
       "      <td>69.115372</td>\n",
       "      <td>58.784775</td>\n",
       "      <td>14.09</td>\n",
       "      <td>28.0500</td>\n",
       "      <td>43.710</td>\n",
       "      <td>97.520</td>\n",
       "      <td>422.00</td>\n",
       "    </tr>\n",
       "    <tr>\n",
       "      <th>ulnaw</th>\n",
       "      <td>418.0</td>\n",
       "      <td>3.597249</td>\n",
       "      <td>2.186747</td>\n",
       "      <td>1.00</td>\n",
       "      <td>1.8700</td>\n",
       "      <td>2.945</td>\n",
       "      <td>4.770</td>\n",
       "      <td>12.00</td>\n",
       "    </tr>\n",
       "    <tr>\n",
       "      <th>feml</th>\n",
       "      <td>418.0</td>\n",
       "      <td>36.872416</td>\n",
       "      <td>19.979082</td>\n",
       "      <td>11.83</td>\n",
       "      <td>21.2975</td>\n",
       "      <td>31.130</td>\n",
       "      <td>47.120</td>\n",
       "      <td>117.07</td>\n",
       "    </tr>\n",
       "    <tr>\n",
       "      <th>femw</th>\n",
       "      <td>419.0</td>\n",
       "      <td>3.220883</td>\n",
       "      <td>2.023581</td>\n",
       "      <td>0.93</td>\n",
       "      <td>1.7150</td>\n",
       "      <td>2.520</td>\n",
       "      <td>4.135</td>\n",
       "      <td>11.64</td>\n",
       "    </tr>\n",
       "    <tr>\n",
       "      <th>tibl</th>\n",
       "      <td>418.0</td>\n",
       "      <td>64.662823</td>\n",
       "      <td>37.838145</td>\n",
       "      <td>5.50</td>\n",
       "      <td>36.4175</td>\n",
       "      <td>52.120</td>\n",
       "      <td>82.870</td>\n",
       "      <td>240.00</td>\n",
       "    </tr>\n",
       "    <tr>\n",
       "      <th>tibw</th>\n",
       "      <td>419.0</td>\n",
       "      <td>3.182339</td>\n",
       "      <td>2.080827</td>\n",
       "      <td>0.87</td>\n",
       "      <td>1.5650</td>\n",
       "      <td>2.490</td>\n",
       "      <td>4.255</td>\n",
       "      <td>11.03</td>\n",
       "    </tr>\n",
       "    <tr>\n",
       "      <th>tarl</th>\n",
       "      <td>419.0</td>\n",
       "      <td>39.229976</td>\n",
       "      <td>23.184313</td>\n",
       "      <td>7.77</td>\n",
       "      <td>23.0350</td>\n",
       "      <td>31.740</td>\n",
       "      <td>50.250</td>\n",
       "      <td>175.00</td>\n",
       "    </tr>\n",
       "    <tr>\n",
       "      <th>tarw</th>\n",
       "      <td>419.0</td>\n",
       "      <td>2.930024</td>\n",
       "      <td>2.185673</td>\n",
       "      <td>0.66</td>\n",
       "      <td>1.4250</td>\n",
       "      <td>2.230</td>\n",
       "      <td>3.500</td>\n",
       "      <td>14.09</td>\n",
       "    </tr>\n",
       "  </tbody>\n",
       "</table>\n",
       "</div>"
      ],
      "text/plain": [
       "       count       mean        std    min      25%     50%     75%     max\n",
       "huml   419.0  64.650501  53.834549   9.85  25.1700  44.180  90.310  420.00\n",
       "humw   419.0   4.370573   2.854617   1.14   2.1900   3.500   5.810   17.84\n",
       "ulnal  417.0  69.115372  58.784775  14.09  28.0500  43.710  97.520  422.00\n",
       "ulnaw  418.0   3.597249   2.186747   1.00   1.8700   2.945   4.770   12.00\n",
       "feml   418.0  36.872416  19.979082  11.83  21.2975  31.130  47.120  117.07\n",
       "femw   419.0   3.220883   2.023581   0.93   1.7150   2.520   4.135   11.64\n",
       "tibl   418.0  64.662823  37.838145   5.50  36.4175  52.120  82.870  240.00\n",
       "tibw   419.0   3.182339   2.080827   0.87   1.5650   2.490   4.255   11.03\n",
       "tarl   419.0  39.229976  23.184313   7.77  23.0350  31.740  50.250  175.00\n",
       "tarw   419.0   2.930024   2.185673   0.66   1.4250   2.230   3.500   14.09"
      ]
     },
     "execution_count": 8,
     "metadata": {},
     "output_type": "execute_result"
    }
   ],
   "source": [
    "df.describe().transpose()"
   ]
  },
  {
   "cell_type": "markdown",
   "id": "856f836e",
   "metadata": {},
   "source": [
    "## Missing Data"
   ]
  },
  {
   "cell_type": "markdown",
   "id": "d883c873",
   "metadata": {},
   "source": [
    "The missing data are checked by this code. O denotes no missing data, 1 or more denotes the absence of data. Except for id and type, every column in the output shown below has a missing value."
   ]
  },
  {
   "cell_type": "code",
   "execution_count": 9,
   "id": "9f0e9197",
   "metadata": {
    "scrolled": true
   },
   "outputs": [
    {
     "data": {
      "text/plain": [
       "huml     1\n",
       "humw     1\n",
       "ulnal    3\n",
       "ulnaw    2\n",
       "feml     2\n",
       "femw     1\n",
       "tibl     2\n",
       "tibw     1\n",
       "tarl     1\n",
       "tarw     1\n",
       "type     0\n",
       "dtype: int64"
      ]
     },
     "execution_count": 9,
     "metadata": {},
     "output_type": "execute_result"
    }
   ],
   "source": [
    "# check for missing value for each column\n",
    "df.isnull().sum()"
   ]
  },
  {
   "cell_type": "markdown",
   "id": "38a0b50e",
   "metadata": {},
   "source": [
    "To determine where the data is lacking, let's generate a heatmap. This will demonstrate how much information is missing from each column on average."
   ]
  },
  {
   "cell_type": "code",
   "execution_count": 10,
   "id": "eb459f9a",
   "metadata": {
    "scrolled": true
   },
   "outputs": [
    {
     "data": {
      "text/plain": [
       "<AxesSubplot:>"
      ]
     },
     "execution_count": 10,
     "metadata": {},
     "output_type": "execute_result"
    },
    {
     "data": {
      "image/png": "[encoded data removed]",
      "text/plain": [
       "<Figure size 432x288 with 1 Axes>"
      ]
     },
     "metadata": {
      "needs_background": "light"
     },
     "output_type": "display_data"
    }
   ],
   "source": [
    "sns.heatmap(df.isnull(),yticklabels=False,cbar=False,cmap='viridis')"
   ]
  },
  {
   "cell_type": "markdown",
   "id": "48f9cac9",
   "metadata": {},
   "source": [
    "There is a missing data, hence the model's performance is unaffected. I'll use the median method to impute the missing numbers. The median value, which is the middle number in the dataset, is independent of all other values. Outliers have no impact on the median values."
   ]
  },
  {
   "cell_type": "code",
   "execution_count": 11,
   "id": "87469f02",
   "metadata": {},
   "outputs": [],
   "source": [
    "# function to impute missing data using median method\n",
    "def impute_data(df):\n",
    "    for col in df:\n",
    "        # if the column has missing values below code will execute\n",
    "        if df[col].isnull().sum():\n",
    "            print(col)\n",
    "            # Replace using median \n",
    "            median = df[col].median()\n",
    "            df[col].fillna(median, inplace=True)"
   ]
  },
  {
   "cell_type": "code",
   "execution_count": 12,
   "id": "e2eb7ca5",
   "metadata": {},
   "outputs": [
    {
     "name": "stdout",
     "output_type": "stream",
     "text": [
      "huml\n",
      "humw\n",
      "ulnal\n",
      "ulnaw\n",
      "feml\n",
      "femw\n",
      "tibl\n",
      "tibw\n",
      "tarl\n",
      "tarw\n"
     ]
    }
   ],
   "source": [
    "impute_data(df)"
   ]
  },
  {
   "cell_type": "code",
   "execution_count": 2,
   "id": "b8a9dedc",
   "metadata": {},
   "outputs": [
    {
     "ename": "NameError",
     "evalue": "name 'df' is not defined",
     "output_type": "error",
     "traceback": [
      "\u001b[0;31m---------------------------------------------------------------------------\u001b[0m",
      "\u001b[0;31mNameError\u001b[0m                                 Traceback (most recent call last)",
      "\u001b[0;32m<ipython-input-2-629914d6d1c7>\u001b[0m in \u001b[0;36m<module>\u001b[0;34m\u001b[0m\n\u001b[0;32m----> 1\u001b[0;31m \u001b[0mdf\u001b[0m\u001b[0;34m.\u001b[0m\u001b[0misnull\u001b[0m\u001b[0;34m(\u001b[0m\u001b[0;34m)\u001b[0m\u001b[0;34m.\u001b[0m\u001b[0msum\u001b[0m\u001b[0;34m(\u001b[0m\u001b[0;34m)\u001b[0m\u001b[0;34m\u001b[0m\u001b[0;34m\u001b[0m\u001b[0m\n\u001b[0m",
      "\u001b[0;31mNameError\u001b[0m: name 'df' is not defined"
     ]
    }
   ],
   "source": [
    "df.isnull().sum()"
   ]
  },
  {
   "cell_type": "markdown",
   "id": "246bac90",
   "metadata": {},
   "source": [
    "As you can see this data has been imputed and no missing data is shown in this data set"
   ]
  },
  {
   "cell_type": "markdown",
   "id": "5b48d9a2",
   "metadata": {},
   "source": [
    "Lets create a plot to check this number of specimens in each ecological group"
   ]
  },
  {
   "cell_type": "code",
   "execution_count": 14,
   "id": "276cd99b",
   "metadata": {},
   "outputs": [
    {
     "data": {
      "image/png": "[encoded data removed]",
      "text/plain": [
       "<Figure size 576x432 with 1 Axes>"
      ]
     },
     "metadata": {
      "needs_background": "light"
     },
     "output_type": "display_data"
    }
   ],
   "source": [
    "# group together the same classes and sort in ascending order \n",
    "size_of_each_group = df.groupby(\"type\").size().sort_values(ascending=False)\n",
    "\n",
    "ax = size_of_each_group.plot(\n",
    "    kind=\"bar\", \n",
    "    color=\"#00304e\",\n",
    "    figsize=((8, 6)),\n",
    "    rot=0\n",
    ")\n",
    "\n",
    "ax.set_title(\"Number of Specimens in Each Ecological Group\", fontsize=12)\n",
    "ax.set_xlabel(\"\")\n",
    "\n",
    "for x, y in zip(np.arange(0, len(size_of_each_group)), size_of_each_group):\n",
    "    ax.annotate(\"{:d}\".format(y), xy=(x-(0.14 if len(str(y)) == 3 else 0.1), y-6), fontsize=10, color=\"#eeeeee\")"
   ]
  },
  {
   "cell_type": "markdown",
   "id": "e1be853c",
   "metadata": {},
   "source": [
    "Birds that sing have the most individual 128 followed by birds that swim, who number 116. The least number of species are the 23 terrestrial birds."
   ]
  },
  {
   "cell_type": "markdown",
   "id": "7b460b53",
   "metadata": {},
   "source": [
    "Let's plot the 10 features in a correlation matrix. Features are dataset characteristics that are variables utilised in supervised learning algorithms for label analysis and prediction. The associations between the variables are provided by the correlation matrix."
   ]
  },
  {
   "cell_type": "code",
   "execution_count": 15,
   "id": "36494db4",
   "metadata": {},
   "outputs": [
    {
     "data": {
      "image/png": "[encoded data removed]",
      "text/plain": [
       "<Figure size 576x576 with 1 Axes>"
      ]
     },
     "metadata": {
      "needs_background": "light"
     },
     "output_type": "display_data"
    }
   ],
   "source": [
    "# list of all the columns that can be used for training. Also called as independent variables or features\n",
    "feature_columns = ['huml', 'humw', 'ulnal', 'ulnaw', 'feml', 'femw', 'tibl', 'tibw', 'tarl', 'tarw']\n",
    "\n",
    "corr = df[feature_columns].corr()\n",
    "\n",
    "_, ax = plt.subplots(figsize=(8, 8))\n",
    "\n",
    "sns.heatmap(\n",
    "    corr, \n",
    "    square=True, \n",
    "    cbar=False, \n",
    "    ax=ax, \n",
    "    annot=True, \n",
    "    annot_kws={\"fontsize\": 10}\n",
    ")\n",
    "\n",
    "_ = ax.set_title(\"Correlation Matrix\", fontsize=10)"
   ]
  },
  {
   "cell_type": "markdown",
   "id": "e998fefe",
   "metadata": {},
   "source": [
    "These characteristics are closely connected. The matrix shows that as the length increases, the width also increases, and as the length falls, the width also reduces. Since all of the features in this dataset are highly linked, all 10 feature columns can be used to train the model."
   ]
  },
  {
   "cell_type": "markdown",
   "id": "a7d5000d",
   "metadata": {},
   "source": [
    "Box plots of the bone sizes of each bird species is given below. "
   ]
  },
  {
   "cell_type": "code",
   "execution_count": 16,
   "id": "3fbcb19f",
   "metadata": {},
   "outputs": [
    {
     "data": {
      "image/png": "[encoded data removed]",
      "text/plain": [
       "<Figure size 864x1728 with 10 Axes>"
      ]
     },
     "metadata": {
      "needs_background": "light"
     },
     "output_type": "display_data"
    }
   ],
   "source": [
    "_, axes = plt.subplots(nrows=5, ncols=2, figsize=(12, 24))\n",
    "\n",
    "for f, ax in zip(feature_columns, axes.ravel()):\n",
    "    _ = sns.boxplot(\n",
    "        data=df, \n",
    "        y=f, \n",
    "        x='type', \n",
    "        ax=ax, \n",
    "        palette=sns.color_palette(\"husl\", n_colors=6, desat=.5)\n",
    "    )\n",
    "    \n",
    "    ax.set_xlabel(\"\")"
   ]
  },
  {
   "cell_type": "markdown",
   "id": "a8d7141e",
   "metadata": {},
   "source": [
    "We can study a lot of data regarding the bone architecture of various bird species using the aforementioned box plots. The raptors and swimming birds are larger in size. Larger and more frequently found on the water are swimming birds like ducks, swans, and cormorants. Raptors, also referred to as birds of prey, are scavengers and carnivores. They come in larger sizes as well. Examples include hawks, eagles, falcons, etc. Additionally, the box plots make it clear that singing birds are the smallest in size. The Nightingale, Canary, Mockingbird, and other birds sing."
   ]
  },
  {
   "cell_type": "markdown",
   "id": "e5f08bea",
   "metadata": {},
   "source": [
    "# Data Pre-processing "
   ]
  },
  {
   "cell_type": "markdown",
   "id": "b2371d9d",
   "metadata": {},
   "source": [
    "# Scaling the data"
   ]
  },
  {
   "cell_type": "markdown",
   "id": "92836799",
   "metadata": {},
   "source": [
    "Numerical training features should be scaled to a standard range to improve the performance of machine learning algorithms. There are various scaling techniques. We shall employ the Standard Scaler because it is the industry standard for handling data scaling. Each input variable is scaled during standardisation by dividing by the standard deviation and subtracting the mean. Then, using the transform method, the mean and standard deviation are stored for use on subsequent data. When scaling new data for model testing, the standard scaler performs effectively. For using a regular scaler, I'll be using the Scikit Learn library."
   ]
  },
  {
   "cell_type": "code",
   "execution_count": 17,
   "id": "fba30a31",
   "metadata": {},
   "outputs": [
    {
     "data": {
      "text/plain": [
       "StandardScaler()"
      ]
     },
     "execution_count": 17,
     "metadata": {},
     "output_type": "execute_result"
    }
   ],
   "source": [
    "from sklearn.preprocessing import StandardScaler\n",
    "# initialise standard scaler object\n",
    "scaler = StandardScaler()\n",
    "# fit method compute the mean and std to be used for later scaling\n",
    "scaler.fit(df[feature_columns])"
   ]
  },
  {
   "cell_type": "code",
   "execution_count": 18,
   "id": "2a76c79e",
   "metadata": {},
   "outputs": [],
   "source": [
    "# transforms the data by centering and scaling\n",
    "scaled_features = scaler.transform(df[feature_columns])"
   ]
  },
  {
   "cell_type": "code",
   "execution_count": 19,
   "id": "d422bb25",
   "metadata": {},
   "outputs": [
    {
     "data": {
      "text/html": [
       "<div>\n",
       "<style scoped>\n",
       "    .dataframe tbody tr th:only-of-type {\n",
       "        vertical-align: middle;\n",
       "    }\n",
       "\n",
       "    .dataframe tbody tr th {\n",
       "        vertical-align: top;\n",
       "    }\n",
       "\n",
       "    .dataframe thead th {\n",
       "        text-align: right;\n",
       "    }\n",
       "</style>\n",
       "<table border=\"1\" class=\"dataframe\">\n",
       "  <thead>\n",
       "    <tr style=\"text-align: right;\">\n",
       "      <th></th>\n",
       "      <th>huml</th>\n",
       "      <th>humw</th>\n",
       "      <th>ulnal</th>\n",
       "      <th>ulnaw</th>\n",
       "      <th>feml</th>\n",
       "      <th>femw</th>\n",
       "      <th>tibl</th>\n",
       "      <th>tibw</th>\n",
       "      <th>tarl</th>\n",
       "      <th>tarw</th>\n",
       "    </tr>\n",
       "  </thead>\n",
       "  <tbody>\n",
       "    <tr>\n",
       "      <th>0</th>\n",
       "      <td>0.301184</td>\n",
       "      <td>0.811586</td>\n",
       "      <td>0.052544</td>\n",
       "      <td>0.590009</td>\n",
       "      <td>0.249349</td>\n",
       "      <td>0.238125</td>\n",
       "      <td>-1.567195</td>\n",
       "      <td>0.409081</td>\n",
       "      <td>-0.022140</td>\n",
       "      <td>0.418045</td>\n",
       "    </tr>\n",
       "    <tr>\n",
       "      <th>1</th>\n",
       "      <td>0.452537</td>\n",
       "      <td>0.794030</td>\n",
       "      <td>0.198077</td>\n",
       "      <td>0.915789</td>\n",
       "      <td>0.512011</td>\n",
       "      <td>0.535295</td>\n",
       "      <td>0.414103</td>\n",
       "      <td>0.640279</td>\n",
       "      <td>0.098905</td>\n",
       "      <td>0.496000</td>\n",
       "    </tr>\n",
       "    <tr>\n",
       "      <th>2</th>\n",
       "      <td>0.286104</td>\n",
       "      <td>0.702742</td>\n",
       "      <td>0.005570</td>\n",
       "      <td>0.773547</td>\n",
       "      <td>0.312629</td>\n",
       "      <td>0.337182</td>\n",
       "      <td>0.284968</td>\n",
       "      <td>0.413897</td>\n",
       "      <td>-0.039000</td>\n",
       "      <td>0.188764</td>\n",
       "    </tr>\n",
       "    <tr>\n",
       "      <th>3</th>\n",
       "      <td>0.242914</td>\n",
       "      <td>0.467500</td>\n",
       "      <td>-0.054215</td>\n",
       "      <td>0.539536</td>\n",
       "      <td>0.160456</td>\n",
       "      <td>0.148974</td>\n",
       "      <td>0.121097</td>\n",
       "      <td>0.105633</td>\n",
       "      <td>-0.148373</td>\n",
       "      <td>0.220863</td>\n",
       "    </tr>\n",
       "    <tr>\n",
       "      <th>4</th>\n",
       "      <td>-0.033543</td>\n",
       "      <td>0.165547</td>\n",
       "      <td>-0.287717</td>\n",
       "      <td>0.062337</td>\n",
       "      <td>-0.145397</td>\n",
       "      <td>-0.247252</td>\n",
       "      <td>-0.220963</td>\n",
       "      <td>-0.106298</td>\n",
       "      <td>-0.316971</td>\n",
       "      <td>0.092466</td>\n",
       "    </tr>\n",
       "  </tbody>\n",
       "</table>\n",
       "</div>"
      ],
      "text/plain": [
       "       huml      humw     ulnal     ulnaw      feml      femw      tibl  \\\n",
       "0  0.301184  0.811586  0.052544  0.590009  0.249349  0.238125 -1.567195   \n",
       "1  0.452537  0.794030  0.198077  0.915789  0.512011  0.535295  0.414103   \n",
       "2  0.286104  0.702742  0.005570  0.773547  0.312629  0.337182  0.284968   \n",
       "3  0.242914  0.467500 -0.054215  0.539536  0.160456  0.148974  0.121097   \n",
       "4 -0.033543  0.165547 -0.287717  0.062337 -0.145397 -0.247252 -0.220963   \n",
       "\n",
       "       tibw      tarl      tarw  \n",
       "0  0.409081 -0.022140  0.418045  \n",
       "1  0.640279  0.098905  0.496000  \n",
       "2  0.413897 -0.039000  0.188764  \n",
       "3  0.105633 -0.148373  0.220863  \n",
       "4 -0.106298 -0.316971  0.092466  "
      ]
     },
     "execution_count": 19,
     "metadata": {},
     "output_type": "execute_result"
    }
   ],
   "source": [
    "# create a dataframe with new transformed features\n",
    "df_feat = pd.DataFrame(scaled_features,columns=feature_columns)\n",
    "df_feat.head()"
   ]
  },
  {
   "cell_type": "markdown",
   "id": "f58cdb20",
   "metadata": {},
   "source": [
    "# Train Test Split"
   ]
  },
  {
   "cell_type": "markdown",
   "id": "d74f580c",
   "metadata": {},
   "source": [
    "The method of creating a train set and a test set involves dividing the dataset into two pieces. It is usual practise in the industry to divide the dataset into 80% train and 20% test, but it also heavily depends on the data that is available and the specifications of the issue that we are attempting to address. The train set is the set on which the model was trained and is used to fit the model. After the model has been trained, it is evaluated using the test set. Due to the smaller size of our dataset, I will use 80% of it for training and 20% for testing the model. I'll be utilising Scikit Learn's Train Test Split technique."
   ]
  },
  {
   "cell_type": "code",
   "execution_count": 20,
   "id": "f18b2ed7",
   "metadata": {},
   "outputs": [],
   "source": [
    "from sklearn.model_selection import train_test_split\n",
    "\n",
    "X_train, X_test, y_train, y_test = train_test_split(scaled_features, df['type'], test_size=0.20, random_state=101)"
   ]
  },
  {
   "cell_type": "markdown",
   "id": "4e97b7c2",
   "metadata": {},
   "source": [
    "# Model Training"
   ]
  },
  {
   "cell_type": "markdown",
   "id": "9094c924",
   "metadata": {},
   "source": [
    "The train set can be used to train the model after the data has been pre-processed and transformed into train test sets. The method transfers the attributes, or independent variables, to the output dependent variable in this stage. There are numerous algorithms included in Scikit Learn that can be used to train the models. Before selecting the best model, it is usually a good idea to train several of them and evaluate their performance. Additionally, I'll be practising with various algorithms."
   ]
  },
  {
   "cell_type": "markdown",
   "id": "868ee8a7",
   "metadata": {},
   "source": [
    "For this dataset, I'll be utilising Support Vector classifier, Random Forests, and Decision Trees. They are all effective multiclass classification algorithms. With the help of these techniques, I will first build some baseline models. Select the one with the best accuracy, and then fine-tune it for improved performance."
   ]
  },
  {
   "cell_type": "markdown",
   "id": "227d464e",
   "metadata": {},
   "source": [
    "## Decision Trees"
   ]
  },
  {
   "cell_type": "markdown",
   "id": "b1766f3c",
   "metadata": {},
   "source": [
    "Decision Tree is a supervised learning algorithm that uses a set of rules to make decisions. "
   ]
  },
  {
   "cell_type": "code",
   "execution_count": 21,
   "id": "202f2d70",
   "metadata": {},
   "outputs": [
    {
     "data": {
      "text/plain": [
       "DecisionTreeClassifier()"
      ]
     },
     "execution_count": 21,
     "metadata": {},
     "output_type": "execute_result"
    }
   ],
   "source": [
    "# import the decision tree classifier\n",
    "from sklearn.tree import DecisionTreeClassifier\n",
    "# initialise the classifier object\n",
    "dtree = DecisionTreeClassifier()\n",
    "# train the classifier with training data\n",
    "dtree.fit(X_train,y_train)"
   ]
  },
  {
   "cell_type": "code",
   "execution_count": 22,
   "id": "b52bc5f7",
   "metadata": {},
   "outputs": [
    {
     "data": {
      "text/plain": [
       "array(['P', 'R', 'SO', 'SW', 'T', 'W'], dtype=object)"
      ]
     },
     "execution_count": 22,
     "metadata": {},
     "output_type": "execute_result"
    }
   ],
   "source": [
    "dtree.classes_"
   ]
  },
  {
   "cell_type": "markdown",
   "id": "63254836",
   "metadata": {},
   "source": [
    "Now the model is trained, it can be used for prediction and evaluating the model."
   ]
  },
  {
   "cell_type": "code",
   "execution_count": 23,
   "id": "bc99a6e8",
   "metadata": {},
   "outputs": [],
   "source": [
    "# using the predict method on test set\n",
    "predictions = dtree.predict(X_test)"
   ]
  },
  {
   "cell_type": "markdown",
   "id": "07851062",
   "metadata": {},
   "source": [
    "# Model Evaluation"
   ]
  },
  {
   "cell_type": "markdown",
   "id": "e2b8ac40",
   "metadata": {},
   "source": [
    "The model must then be evaluated on the test set that was divided using the train-test-split procedure once it has been trained. This stage is necessary to determine how the model will function with hypothetical data."
   ]
  },
  {
   "cell_type": "markdown",
   "id": "d8633a06",
   "metadata": {},
   "source": [
    "Importing the confusion matrix and classification report will help us evaluate the models."
   ]
  },
  {
   "cell_type": "code",
   "execution_count": 24,
   "id": "212e663c",
   "metadata": {},
   "outputs": [],
   "source": [
    "from sklearn.metrics import classification_report,confusion_matrix"
   ]
  },
  {
   "cell_type": "markdown",
   "id": "7edd8619",
   "metadata": {},
   "source": [
    "# Confusion Matrix"
   ]
  },
  {
   "cell_type": "markdown",
   "id": "ee1c671d",
   "metadata": {},
   "source": [
    "When assessing the performance of a classification model, a N x N matrix is employed, where N is the total number of target classes. The actual goal values are contrasted with those that the machine learning model anticipated."
   ]
  },
  {
   "cell_type": "code",
   "execution_count": 25,
   "id": "4d9f4fc9",
   "metadata": {},
   "outputs": [
    {
     "name": "stdout",
     "output_type": "stream",
     "text": [
      "[[ 4  0  0  0  2  1]\n",
      " [ 0  7  1  0  0  0]\n",
      " [ 1  0 26  0  0  0]\n",
      " [ 0  2  1 15  0  3]\n",
      " [ 0  1  0  0  2  2]\n",
      " [ 1  0  1  6  1  7]]\n"
     ]
    }
   ],
   "source": [
    "# confusion matrix method takes in the actual tests label and predicted labels as parametres\n",
    "print(confusion_matrix(y_test,predictions))"
   ]
  },
  {
   "cell_type": "markdown",
   "id": "c8a1c89e",
   "metadata": {},
   "source": [
    "# Classification Report"
   ]
  },
  {
   "cell_type": "markdown",
   "id": "814512be",
   "metadata": {},
   "source": [
    "The primary classification parameters, including precision, recall, f1-score for each class, and overall accuracy, are displayed in the classification report."
   ]
  },
  {
   "cell_type": "code",
   "execution_count": 26,
   "id": "5cc9bcc2",
   "metadata": {},
   "outputs": [
    {
     "name": "stdout",
     "output_type": "stream",
     "text": [
      "              precision    recall  f1-score   support\n",
      "\n",
      "           P       0.67      0.57      0.62         7\n",
      "           R       0.70      0.88      0.78         8\n",
      "          SO       0.90      0.96      0.93        27\n",
      "          SW       0.71      0.71      0.71        21\n",
      "           T       0.40      0.40      0.40         5\n",
      "           W       0.54      0.44      0.48        16\n",
      "\n",
      "    accuracy                           0.73        84\n",
      "   macro avg       0.65      0.66      0.65        84\n",
      "weighted avg       0.72      0.73      0.72        84\n",
      "\n"
     ]
    }
   ],
   "source": [
    "# method takes in the actual test labels and predicted labels as parametres\n",
    "print(classification_report(y_test,predictions))"
   ]
  },
  {
   "cell_type": "markdown",
   "id": "a194b57c",
   "metadata": {},
   "source": [
    "# Random Forests"
   ]
  },
  {
   "cell_type": "markdown",
   "id": "d8c0d5fe",
   "metadata": {},
   "source": [
    "A collection of decision trees make form the ensemble algorithm known as Random Forests. The forecast of the Random Forests method is taken to be the average of all decision tree predictions."
   ]
  },
  {
   "cell_type": "code",
   "execution_count": 27,
   "id": "79e1f918",
   "metadata": {},
   "outputs": [
    {
     "data": {
      "text/plain": [
       "RandomForestClassifier(random_state=0)"
      ]
     },
     "execution_count": 27,
     "metadata": {},
     "output_type": "execute_result"
    }
   ],
   "source": [
    "# import the classifier form the sklearn\n",
    "from sklearn.ensemble import RandomForestClassifier\n",
    "# initalise the classifier\n",
    "rfc = RandomForestClassifier(random_state=0)\n",
    "# train the classifier with training data\n",
    "rfc.fit(X_train, y_train)"
   ]
  },
  {
   "cell_type": "code",
   "execution_count": 28,
   "id": "6567fc09",
   "metadata": {},
   "outputs": [],
   "source": [
    "# using predict method on test set\n",
    "rfc_pred = rfc.predict(X_test)"
   ]
  },
  {
   "cell_type": "code",
   "execution_count": 29,
   "id": "c208f415",
   "metadata": {},
   "outputs": [
    {
     "name": "stdout",
     "output_type": "stream",
     "text": [
      "[[ 5  0  2  0  0  0]\n",
      " [ 1  7  0  0  0  0]\n",
      " [ 0  0 27  0  0  0]\n",
      " [ 0  1  1 18  0  1]\n",
      " [ 0  1  0  2  2  0]\n",
      " [ 2  0  3  4  0  7]]\n"
     ]
    }
   ],
   "source": [
    "# confusion matrix method takes in the actual tests label and predicted labels as parametres\n",
    "print(confusion_matrix(y_test,rfc_pred))"
   ]
  },
  {
   "cell_type": "code",
   "execution_count": 30,
   "id": "824008fa",
   "metadata": {},
   "outputs": [
    {
     "name": "stdout",
     "output_type": "stream",
     "text": [
      "              precision    recall  f1-score   support\n",
      "\n",
      "           P       0.62      0.71      0.67         7\n",
      "           R       0.78      0.88      0.82         8\n",
      "          SO       0.82      1.00      0.90        27\n",
      "          SW       0.75      0.86      0.80        21\n",
      "           T       1.00      0.40      0.57         5\n",
      "           W       0.88      0.44      0.58        16\n",
      "\n",
      "    accuracy                           0.79        84\n",
      "   macro avg       0.81      0.71      0.72        84\n",
      "weighted avg       0.80      0.79      0.77        84\n",
      "\n"
     ]
    }
   ],
   "source": [
    "# method takes in the actual test labels and predicted labels as parametres\n",
    "print(classification_report(y_test,rfc_pred))"
   ]
  },
  {
   "cell_type": "markdown",
   "id": "00c82c16",
   "metadata": {},
   "source": [
    "# Support Vector Classifer"
   ]
  },
  {
   "cell_type": "code",
   "execution_count": 31,
   "id": "85d676eb",
   "metadata": {},
   "outputs": [
    {
     "data": {
      "text/plain": [
       "LinearSVC(multi_class='crammer_singer', random_state=0)"
      ]
     },
     "execution_count": 31,
     "metadata": {},
     "output_type": "execute_result"
    }
   ],
   "source": [
    "from sklearn.svm import LinearSVC\n",
    "svc = LinearSVC(multi_class='crammer_singer', random_state=0)\n",
    "svc.fit(X_train, y_train)"
   ]
  },
  {
   "cell_type": "code",
   "execution_count": 32,
   "id": "3b4f5465",
   "metadata": {},
   "outputs": [],
   "source": [
    "svc_pred = svc.predict(X_test)"
   ]
  },
  {
   "cell_type": "code",
   "execution_count": 33,
   "id": "819e3672",
   "metadata": {},
   "outputs": [
    {
     "name": "stdout",
     "output_type": "stream",
     "text": [
      "[[ 3  0  4  0  0  0]\n",
      " [ 1  6  0  1  0  0]\n",
      " [ 0  0 27  0  0  0]\n",
      " [ 0  0  1 19  0  1]\n",
      " [ 0  2  0  0  3  0]\n",
      " [ 1  1  4  3  0  7]]\n"
     ]
    }
   ],
   "source": [
    "print(confusion_matrix(y_test,svc_pred))"
   ]
  },
  {
   "cell_type": "code",
   "execution_count": 34,
   "id": "ab49928b",
   "metadata": {},
   "outputs": [
    {
     "name": "stdout",
     "output_type": "stream",
     "text": [
      "              precision    recall  f1-score   support\n",
      "\n",
      "           P       0.60      0.43      0.50         7\n",
      "           R       0.67      0.75      0.71         8\n",
      "          SO       0.75      1.00      0.86        27\n",
      "          SW       0.83      0.90      0.86        21\n",
      "           T       1.00      0.60      0.75         5\n",
      "           W       0.88      0.44      0.58        16\n",
      "\n",
      "    accuracy                           0.77        84\n",
      "   macro avg       0.79      0.69      0.71        84\n",
      "weighted avg       0.79      0.77      0.76        84\n",
      "\n"
     ]
    }
   ],
   "source": [
    "print(classification_report(y_test,svc_pred))"
   ]
  },
  {
   "cell_type": "markdown",
   "id": "3d2ac4e7",
   "metadata": {},
   "source": [
    "It is clear from the findings of the three models discussed above that Random Forests provides the highest degree of accuracy. To further enhance the performance of this model, I will tune its parameters."
   ]
  },
  {
   "cell_type": "markdown",
   "id": "6f9ddc0b",
   "metadata": {},
   "source": [
    "# Hyperparameter optimization"
   ]
  },
  {
   "cell_type": "markdown",
   "id": "9ce5b5dd",
   "metadata": {},
   "source": [
    "The model's hyperparameter is a setting made before the training process begins. Hyperparameters vary depending on the model. Scikit Learn has established default values for these, but we can also alter them to improve the model. I will be concentrating on the Random Forests classifier's parameters as I have selected it as the primary model. The description of the parameters I will be optimising is provided below.\n",
    "\n",
    "* n_estimators: This is the number of trees in the forest model. Default value in the latest version of scikit learn is 100.\n",
    "* max_depth: It specifies the maximum of depth of each tree. Default value is none.\n",
    "* min_samples_split: It specifies the minimum number of samples required to split an internal leaf node. The default is 2.\n",
    "* min_samples_leaf: It specifies the minimum number of samples required to be at a leaf node. The default value is 1."
   ]
  },
  {
   "cell_type": "markdown",
   "id": "1937b4a6",
   "metadata": {},
   "source": [
    "# Grid search"
   ]
  },
  {
   "cell_type": "markdown",
   "id": "e0020de6",
   "metadata": {},
   "source": [
    "The grid search approach considers a large number of hyperparameters and combines them. Additionally, you can choose how much cross validation to use. This is a great method for determining the ideal parameters. The names of the parameters serve as keys in a dictionary, and lists representing the various values are used to set the parameters. The grid search method accepts three arguments: the model, the parameter set, and the quantity of cross validations.\n"
   ]
  },
  {
   "cell_type": "code",
   "execution_count": 35,
   "id": "622b18f4",
   "metadata": {},
   "outputs": [],
   "source": [
    "# import the grid search method\n",
    "from sklearn.model_selection import GridSearchCV\n",
    "\n",
    "# set the parameters \n",
    "params = {\n",
    "    \"n_estimators\": [100, 300, 500],\n",
    "    \"max_depth\": [10, 15, 20],\n",
    "    \"min_samples_split\": [2, 5, 10],\n",
    "    \"min_samples_leaf\": [1, 3, 5]\n",
    "}\n",
    "# grid search estimator takes in the model estimator and parameter set\n",
    "rfc_grid = GridSearchCV(rfc, param_grid=params, cv=3, refit=True, verbose=2)"
   ]
  },
  {
   "cell_type": "markdown",
   "id": "6e204130",
   "metadata": {},
   "source": [
    "The Grid search fit approach trains the data on every set of our provided parameter combinations. It determines the ideal mixture and performs fit once more to create a model.\n"
   ]
  },
  {
   "cell_type": "code",
   "execution_count": 36,
   "id": "2b2250bc",
   "metadata": {},
   "outputs": [
    {
     "name": "stdout",
     "output_type": "stream",
     "text": [
      "Fitting 3 folds for each of 81 candidates, totalling 243 fits\n",
      "[CV] END max_depth=10, min_samples_leaf=1, min_samples_split=2, n_estimators=100; total time=   0.1s\n",
      "[CV] END max_depth=10, min_samples_leaf=1, min_samples_split=2, n_estimators=100; total time=   0.1s\n",
      "[CV] END max_depth=10, min_samples_leaf=1, min_samples_split=2, n_estimators=100; total time=   0.1s\n",
      "[CV] END max_depth=10, min_samples_leaf=1, min_samples_split=2, n_estimators=300; total time=   0.2s\n",
      "[CV] END max_depth=10, min_samples_leaf=1, min_samples_split=2, n_estimators=300; total time=   0.2s\n",
      "[CV] END max_depth=10, min_samples_leaf=1, min_samples_split=2, n_estimators=300; total time=   0.2s\n",
      "[CV] END max_depth=10, min_samples_leaf=1, min_samples_split=2, n_estimators=500; total time=   0.4s\n",
      "[CV] END max_depth=10, min_samples_leaf=1, min_samples_split=2, n_estimators=500; total time=   0.4s\n",
      "[CV] END max_depth=10, min_samples_leaf=1, min_samples_split=2, n_estimators=500; total time=   0.4s\n",
      "[CV] END max_depth=10, min_samples_leaf=1, min_samples_split=5, n_estimators=100; total time=   0.1s\n",
      "[CV] END max_depth=10, min_samples_leaf=1, min_samples_split=5, n_estimators=100; total time=   0.1s\n",
      "[CV] END max_depth=10, min_samples_leaf=1, min_samples_split=5, n_estimators=100; total time=   0.1s\n",
      "[CV] END max_depth=10, min_samples_leaf=1, min_samples_split=5, n_estimators=300; total time=   0.2s\n",
      "[CV] END max_depth=10, min_samples_leaf=1, min_samples_split=5, n_estimators=300; total time=   0.2s\n",
      "[CV] END max_depth=10, min_samples_leaf=1, min_samples_split=5, n_estimators=300; total time=   0.2s\n",
      "[CV] END max_depth=10, min_samples_leaf=1, min_samples_split=5, n_estimators=500; total time=   0.4s\n",
      "[CV] END max_depth=10, min_samples_leaf=1, min_samples_split=5, n_estimators=500; total time=   0.4s\n",
      "[CV] END max_depth=10, min_samples_leaf=1, min_samples_split=5, n_estimators=500; total time=   0.4s\n",
      "[CV] END max_depth=10, min_samples_leaf=1, min_samples_split=10, n_estimators=100; total time=   0.1s\n",
      "[CV] END max_depth=10, min_samples_leaf=1, min_samples_split=10, n_estimators=100; total time=   0.1s\n",
      "[CV] END max_depth=10, min_samples_leaf=1, min_samples_split=10, n_estimators=100; total time=   0.1s\n",
      "[CV] END max_depth=10, min_samples_leaf=1, min_samples_split=10, n_estimators=300; total time=   0.2s\n",
      "[CV] END max_depth=10, min_samples_leaf=1, min_samples_split=10, n_estimators=300; total time=   0.2s\n",
      "[CV] END max_depth=10, min_samples_leaf=1, min_samples_split=10, n_estimators=300; total time=   0.2s\n",
      "[CV] END max_depth=10, min_samples_leaf=1, min_samples_split=10, n_estimators=500; total time=   0.4s\n",
      "[CV] END max_depth=10, min_samples_leaf=1, min_samples_split=10, n_estimators=500; total time=   0.4s\n",
      "[CV] END max_depth=10, min_samples_leaf=1, min_samples_split=10, n_estimators=500; total time=   0.4s\n",
      "[CV] END max_depth=10, min_samples_leaf=3, min_samples_split=2, n_estimators=100; total time=   0.1s\n",
      "[CV] END max_depth=10, min_samples_leaf=3, min_samples_split=2, n_estimators=100; total time=   0.1s\n",
      "[CV] END max_depth=10, min_samples_leaf=3, min_samples_split=2, n_estimators=100; total time=   0.1s\n",
      "[CV] END max_depth=10, min_samples_leaf=3, min_samples_split=2, n_estimators=300; total time=   0.2s\n",
      "[CV] END max_depth=10, min_samples_leaf=3, min_samples_split=2, n_estimators=300; total time=   0.2s\n",
      "[CV] END max_depth=10, min_samples_leaf=3, min_samples_split=2, n_estimators=300; total time=   0.2s\n",
      "[CV] END max_depth=10, min_samples_leaf=3, min_samples_split=2, n_estimators=500; total time=   0.4s\n",
      "[CV] END max_depth=10, min_samples_leaf=3, min_samples_split=2, n_estimators=500; total time=   0.4s\n",
      "[CV] END max_depth=10, min_samples_leaf=3, min_samples_split=2, n_estimators=500; total time=   0.4s\n",
      "[CV] END max_depth=10, min_samples_leaf=3, min_samples_split=5, n_estimators=100; total time=   0.1s\n",
      "[CV] END max_depth=10, min_samples_leaf=3, min_samples_split=5, n_estimators=100; total time=   0.1s\n",
      "[CV] END max_depth=10, min_samples_leaf=3, min_samples_split=5, n_estimators=100; total time=   0.1s\n",
      "[CV] END max_depth=10, min_samples_leaf=3, min_samples_split=5, n_estimators=300; total time=   0.2s\n",
      "[CV] END max_depth=10, min_samples_leaf=3, min_samples_split=5, n_estimators=300; total time=   0.2s\n",
      "[CV] END max_depth=10, min_samples_leaf=3, min_samples_split=5, n_estimators=300; total time=   0.2s\n",
      "[CV] END max_depth=10, min_samples_leaf=3, min_samples_split=5, n_estimators=500; total time=   0.4s\n",
      "[CV] END max_depth=10, min_samples_leaf=3, min_samples_split=5, n_estimators=500; total time=   0.4s\n",
      "[CV] END max_depth=10, min_samples_leaf=3, min_samples_split=5, n_estimators=500; total time=   0.4s\n",
      "[CV] END max_depth=10, min_samples_leaf=3, min_samples_split=10, n_estimators=100; total time=   0.1s\n",
      "[CV] END max_depth=10, min_samples_leaf=3, min_samples_split=10, n_estimators=100; total time=   0.1s\n",
      "[CV] END max_depth=10, min_samples_leaf=3, min_samples_split=10, n_estimators=100; total time=   0.1s\n",
      "[CV] END max_depth=10, min_samples_leaf=3, min_samples_split=10, n_estimators=300; total time=   0.2s\n",
      "[CV] END max_depth=10, min_samples_leaf=3, min_samples_split=10, n_estimators=300; total time=   0.2s\n",
      "[CV] END max_depth=10, min_samples_leaf=3, min_samples_split=10, n_estimators=300; total time=   0.2s\n",
      "[CV] END max_depth=10, min_samples_leaf=3, min_samples_split=10, n_estimators=500; total time=   0.4s\n",
      "[CV] END max_depth=10, min_samples_leaf=3, min_samples_split=10, n_estimators=500; total time=   0.4s\n",
      "[CV] END max_depth=10, min_samples_leaf=3, min_samples_split=10, n_estimators=500; total time=   0.4s\n",
      "[CV] END max_depth=10, min_samples_leaf=5, min_samples_split=2, n_estimators=100; total time=   0.1s\n",
      "[CV] END max_depth=10, min_samples_leaf=5, min_samples_split=2, n_estimators=100; total time=   0.1s\n",
      "[CV] END max_depth=10, min_samples_leaf=5, min_samples_split=2, n_estimators=100; total time=   0.1s\n",
      "[CV] END max_depth=10, min_samples_leaf=5, min_samples_split=2, n_estimators=300; total time=   0.2s\n",
      "[CV] END max_depth=10, min_samples_leaf=5, min_samples_split=2, n_estimators=300; total time=   0.2s\n",
      "[CV] END max_depth=10, min_samples_leaf=5, min_samples_split=2, n_estimators=300; total time=   0.2s\n",
      "[CV] END max_depth=10, min_samples_leaf=5, min_samples_split=2, n_estimators=500; total time=   0.4s\n",
      "[CV] END max_depth=10, min_samples_leaf=5, min_samples_split=2, n_estimators=500; total time=   0.4s\n",
      "[CV] END max_depth=10, min_samples_leaf=5, min_samples_split=2, n_estimators=500; total time=   0.4s\n",
      "[CV] END max_depth=10, min_samples_leaf=5, min_samples_split=5, n_estimators=100; total time=   0.1s\n",
      "[CV] END max_depth=10, min_samples_leaf=5, min_samples_split=5, n_estimators=100; total time=   0.1s\n",
      "[CV] END max_depth=10, min_samples_leaf=5, min_samples_split=5, n_estimators=100; total time=   0.1s\n",
      "[CV] END max_depth=10, min_samples_leaf=5, min_samples_split=5, n_estimators=300; total time=   0.2s\n",
      "[CV] END max_depth=10, min_samples_leaf=5, min_samples_split=5, n_estimators=300; total time=   0.2s\n",
      "[CV] END max_depth=10, min_samples_leaf=5, min_samples_split=5, n_estimators=300; total time=   0.2s\n",
      "[CV] END max_depth=10, min_samples_leaf=5, min_samples_split=5, n_estimators=500; total time=   0.4s\n",
      "[CV] END max_depth=10, min_samples_leaf=5, min_samples_split=5, n_estimators=500; total time=   0.4s\n",
      "[CV] END max_depth=10, min_samples_leaf=5, min_samples_split=5, n_estimators=500; total time=   0.4s\n",
      "[CV] END max_depth=10, min_samples_leaf=5, min_samples_split=10, n_estimators=100; total time=   0.1s\n",
      "[CV] END max_depth=10, min_samples_leaf=5, min_samples_split=10, n_estimators=100; total time=   0.1s\n",
      "[CV] END max_depth=10, min_samples_leaf=5, min_samples_split=10, n_estimators=100; total time=   0.1s\n",
      "[CV] END max_depth=10, min_samples_leaf=5, min_samples_split=10, n_estimators=300; total time=   0.2s\n",
      "[CV] END max_depth=10, min_samples_leaf=5, min_samples_split=10, n_estimators=300; total time=   0.2s\n",
      "[CV] END max_depth=10, min_samples_leaf=5, min_samples_split=10, n_estimators=300; total time=   0.2s\n",
      "[CV] END max_depth=10, min_samples_leaf=5, min_samples_split=10, n_estimators=500; total time=   0.4s\n",
      "[CV] END max_depth=10, min_samples_leaf=5, min_samples_split=10, n_estimators=500; total time=   0.4s\n",
      "[CV] END max_depth=10, min_samples_leaf=5, min_samples_split=10, n_estimators=500; total time=   0.4s\n",
      "[CV] END max_depth=15, min_samples_leaf=1, min_samples_split=2, n_estimators=100; total time=   0.1s\n",
      "[CV] END max_depth=15, min_samples_leaf=1, min_samples_split=2, n_estimators=100; total time=   0.1s\n"
     ]
    },
    {
     "name": "stdout",
     "output_type": "stream",
     "text": [
      "[CV] END max_depth=15, min_samples_leaf=1, min_samples_split=2, n_estimators=100; total time=   0.1s\n",
      "[CV] END max_depth=15, min_samples_leaf=1, min_samples_split=2, n_estimators=300; total time=   0.2s\n",
      "[CV] END max_depth=15, min_samples_leaf=1, min_samples_split=2, n_estimators=300; total time=   0.2s\n",
      "[CV] END max_depth=15, min_samples_leaf=1, min_samples_split=2, n_estimators=300; total time=   0.2s\n",
      "[CV] END max_depth=15, min_samples_leaf=1, min_samples_split=2, n_estimators=500; total time=   0.4s\n",
      "[CV] END max_depth=15, min_samples_leaf=1, min_samples_split=2, n_estimators=500; total time=   0.4s\n",
      "[CV] END max_depth=15, min_samples_leaf=1, min_samples_split=2, n_estimators=500; total time=   0.4s\n",
      "[CV] END max_depth=15, min_samples_leaf=1, min_samples_split=5, n_estimators=100; total time=   0.1s\n",
      "[CV] END max_depth=15, min_samples_leaf=1, min_samples_split=5, n_estimators=100; total time=   0.1s\n",
      "[CV] END max_depth=15, min_samples_leaf=1, min_samples_split=5, n_estimators=100; total time=   0.1s\n",
      "[CV] END max_depth=15, min_samples_leaf=1, min_samples_split=5, n_estimators=300; total time=   0.2s\n",
      "[CV] END max_depth=15, min_samples_leaf=1, min_samples_split=5, n_estimators=300; total time=   0.2s\n",
      "[CV] END max_depth=15, min_samples_leaf=1, min_samples_split=5, n_estimators=300; total time=   0.2s\n",
      "[CV] END max_depth=15, min_samples_leaf=1, min_samples_split=5, n_estimators=500; total time=   0.4s\n",
      "[CV] END max_depth=15, min_samples_leaf=1, min_samples_split=5, n_estimators=500; total time=   0.4s\n",
      "[CV] END max_depth=15, min_samples_leaf=1, min_samples_split=5, n_estimators=500; total time=   0.4s\n",
      "[CV] END max_depth=15, min_samples_leaf=1, min_samples_split=10, n_estimators=100; total time=   0.1s\n",
      "[CV] END max_depth=15, min_samples_leaf=1, min_samples_split=10, n_estimators=100; total time=   0.1s\n",
      "[CV] END max_depth=15, min_samples_leaf=1, min_samples_split=10, n_estimators=100; total time=   0.1s\n",
      "[CV] END max_depth=15, min_samples_leaf=1, min_samples_split=10, n_estimators=300; total time=   0.2s\n",
      "[CV] END max_depth=15, min_samples_leaf=1, min_samples_split=10, n_estimators=300; total time=   0.2s\n",
      "[CV] END max_depth=15, min_samples_leaf=1, min_samples_split=10, n_estimators=300; total time=   0.2s\n",
      "[CV] END max_depth=15, min_samples_leaf=1, min_samples_split=10, n_estimators=500; total time=   0.4s\n",
      "[CV] END max_depth=15, min_samples_leaf=1, min_samples_split=10, n_estimators=500; total time=   0.4s\n",
      "[CV] END max_depth=15, min_samples_leaf=1, min_samples_split=10, n_estimators=500; total time=   0.4s\n",
      "[CV] END max_depth=15, min_samples_leaf=3, min_samples_split=2, n_estimators=100; total time=   0.1s\n",
      "[CV] END max_depth=15, min_samples_leaf=3, min_samples_split=2, n_estimators=100; total time=   0.1s\n",
      "[CV] END max_depth=15, min_samples_leaf=3, min_samples_split=2, n_estimators=100; total time=   0.1s\n",
      "[CV] END max_depth=15, min_samples_leaf=3, min_samples_split=2, n_estimators=300; total time=   0.2s\n",
      "[CV] END max_depth=15, min_samples_leaf=3, min_samples_split=2, n_estimators=300; total time=   0.2s\n",
      "[CV] END max_depth=15, min_samples_leaf=3, min_samples_split=2, n_estimators=300; total time=   0.2s\n",
      "[CV] END max_depth=15, min_samples_leaf=3, min_samples_split=2, n_estimators=500; total time=   0.4s\n",
      "[CV] END max_depth=15, min_samples_leaf=3, min_samples_split=2, n_estimators=500; total time=   0.4s\n",
      "[CV] END max_depth=15, min_samples_leaf=3, min_samples_split=2, n_estimators=500; total time=   0.4s\n",
      "[CV] END max_depth=15, min_samples_leaf=3, min_samples_split=5, n_estimators=100; total time=   0.1s\n",
      "[CV] END max_depth=15, min_samples_leaf=3, min_samples_split=5, n_estimators=100; total time=   0.1s\n",
      "[CV] END max_depth=15, min_samples_leaf=3, min_samples_split=5, n_estimators=100; total time=   0.1s\n",
      "[CV] END max_depth=15, min_samples_leaf=3, min_samples_split=5, n_estimators=300; total time=   0.2s\n",
      "[CV] END max_depth=15, min_samples_leaf=3, min_samples_split=5, n_estimators=300; total time=   0.2s\n",
      "[CV] END max_depth=15, min_samples_leaf=3, min_samples_split=5, n_estimators=300; total time=   0.2s\n",
      "[CV] END max_depth=15, min_samples_leaf=3, min_samples_split=5, n_estimators=500; total time=   0.4s\n",
      "[CV] END max_depth=15, min_samples_leaf=3, min_samples_split=5, n_estimators=500; total time=   0.4s\n",
      "[CV] END max_depth=15, min_samples_leaf=3, min_samples_split=5, n_estimators=500; total time=   0.4s\n",
      "[CV] END max_depth=15, min_samples_leaf=3, min_samples_split=10, n_estimators=100; total time=   0.1s\n",
      "[CV] END max_depth=15, min_samples_leaf=3, min_samples_split=10, n_estimators=100; total time=   0.1s\n",
      "[CV] END max_depth=15, min_samples_leaf=3, min_samples_split=10, n_estimators=100; total time=   0.1s\n",
      "[CV] END max_depth=15, min_samples_leaf=3, min_samples_split=10, n_estimators=300; total time=   0.2s\n",
      "[CV] END max_depth=15, min_samples_leaf=3, min_samples_split=10, n_estimators=300; total time=   0.2s\n",
      "[CV] END max_depth=15, min_samples_leaf=3, min_samples_split=10, n_estimators=300; total time=   0.2s\n",
      "[CV] END max_depth=15, min_samples_leaf=3, min_samples_split=10, n_estimators=500; total time=   0.4s\n",
      "[CV] END max_depth=15, min_samples_leaf=3, min_samples_split=10, n_estimators=500; total time=   0.4s\n",
      "[CV] END max_depth=15, min_samples_leaf=3, min_samples_split=10, n_estimators=500; total time=   0.4s\n",
      "[CV] END max_depth=15, min_samples_leaf=5, min_samples_split=2, n_estimators=100; total time=   0.1s\n",
      "[CV] END max_depth=15, min_samples_leaf=5, min_samples_split=2, n_estimators=100; total time=   0.1s\n",
      "[CV] END max_depth=15, min_samples_leaf=5, min_samples_split=2, n_estimators=100; total time=   0.1s\n",
      "[CV] END max_depth=15, min_samples_leaf=5, min_samples_split=2, n_estimators=300; total time=   0.2s\n",
      "[CV] END max_depth=15, min_samples_leaf=5, min_samples_split=2, n_estimators=300; total time=   0.2s\n",
      "[CV] END max_depth=15, min_samples_leaf=5, min_samples_split=2, n_estimators=300; total time=   0.2s\n",
      "[CV] END max_depth=15, min_samples_leaf=5, min_samples_split=2, n_estimators=500; total time=   0.4s\n",
      "[CV] END max_depth=15, min_samples_leaf=5, min_samples_split=2, n_estimators=500; total time=   0.4s\n",
      "[CV] END max_depth=15, min_samples_leaf=5, min_samples_split=2, n_estimators=500; total time=   0.4s\n",
      "[CV] END max_depth=15, min_samples_leaf=5, min_samples_split=5, n_estimators=100; total time=   0.1s\n",
      "[CV] END max_depth=15, min_samples_leaf=5, min_samples_split=5, n_estimators=100; total time=   0.1s\n",
      "[CV] END max_depth=15, min_samples_leaf=5, min_samples_split=5, n_estimators=100; total time=   0.1s\n",
      "[CV] END max_depth=15, min_samples_leaf=5, min_samples_split=5, n_estimators=300; total time=   0.2s\n",
      "[CV] END max_depth=15, min_samples_leaf=5, min_samples_split=5, n_estimators=300; total time=   0.2s\n",
      "[CV] END max_depth=15, min_samples_leaf=5, min_samples_split=5, n_estimators=300; total time=   0.2s\n",
      "[CV] END max_depth=15, min_samples_leaf=5, min_samples_split=5, n_estimators=500; total time=   0.4s\n",
      "[CV] END max_depth=15, min_samples_leaf=5, min_samples_split=5, n_estimators=500; total time=   0.4s\n",
      "[CV] END max_depth=15, min_samples_leaf=5, min_samples_split=5, n_estimators=500; total time=   0.4s\n",
      "[CV] END max_depth=15, min_samples_leaf=5, min_samples_split=10, n_estimators=100; total time=   0.1s\n",
      "[CV] END max_depth=15, min_samples_leaf=5, min_samples_split=10, n_estimators=100; total time=   0.1s\n",
      "[CV] END max_depth=15, min_samples_leaf=5, min_samples_split=10, n_estimators=100; total time=   0.1s\n",
      "[CV] END max_depth=15, min_samples_leaf=5, min_samples_split=10, n_estimators=300; total time=   0.2s\n",
      "[CV] END max_depth=15, min_samples_leaf=5, min_samples_split=10, n_estimators=300; total time=   0.2s\n",
      "[CV] END max_depth=15, min_samples_leaf=5, min_samples_split=10, n_estimators=300; total time=   0.2s\n",
      "[CV] END max_depth=15, min_samples_leaf=5, min_samples_split=10, n_estimators=500; total time=   0.4s\n",
      "[CV] END max_depth=15, min_samples_leaf=5, min_samples_split=10, n_estimators=500; total time=   0.4s\n",
      "[CV] END max_depth=15, min_samples_leaf=5, min_samples_split=10, n_estimators=500; total time=   0.4s\n",
      "[CV] END max_depth=20, min_samples_leaf=1, min_samples_split=2, n_estimators=100; total time=   0.1s\n",
      "[CV] END max_depth=20, min_samples_leaf=1, min_samples_split=2, n_estimators=100; total time=   0.1s\n"
     ]
    },
    {
     "name": "stdout",
     "output_type": "stream",
     "text": [
      "[CV] END max_depth=20, min_samples_leaf=1, min_samples_split=2, n_estimators=100; total time=   0.1s\n",
      "[CV] END max_depth=20, min_samples_leaf=1, min_samples_split=2, n_estimators=300; total time=   0.2s\n",
      "[CV] END max_depth=20, min_samples_leaf=1, min_samples_split=2, n_estimators=300; total time=   0.2s\n",
      "[CV] END max_depth=20, min_samples_leaf=1, min_samples_split=2, n_estimators=300; total time=   0.2s\n",
      "[CV] END max_depth=20, min_samples_leaf=1, min_samples_split=2, n_estimators=500; total time=   0.4s\n",
      "[CV] END max_depth=20, min_samples_leaf=1, min_samples_split=2, n_estimators=500; total time=   0.4s\n",
      "[CV] END max_depth=20, min_samples_leaf=1, min_samples_split=2, n_estimators=500; total time=   0.4s\n",
      "[CV] END max_depth=20, min_samples_leaf=1, min_samples_split=5, n_estimators=100; total time=   0.1s\n",
      "[CV] END max_depth=20, min_samples_leaf=1, min_samples_split=5, n_estimators=100; total time=   0.1s\n",
      "[CV] END max_depth=20, min_samples_leaf=1, min_samples_split=5, n_estimators=100; total time=   0.1s\n",
      "[CV] END max_depth=20, min_samples_leaf=1, min_samples_split=5, n_estimators=300; total time=   0.2s\n",
      "[CV] END max_depth=20, min_samples_leaf=1, min_samples_split=5, n_estimators=300; total time=   0.2s\n",
      "[CV] END max_depth=20, min_samples_leaf=1, min_samples_split=5, n_estimators=300; total time=   0.2s\n",
      "[CV] END max_depth=20, min_samples_leaf=1, min_samples_split=5, n_estimators=500; total time=   0.4s\n",
      "[CV] END max_depth=20, min_samples_leaf=1, min_samples_split=5, n_estimators=500; total time=   0.4s\n",
      "[CV] END max_depth=20, min_samples_leaf=1, min_samples_split=5, n_estimators=500; total time=   0.4s\n",
      "[CV] END max_depth=20, min_samples_leaf=1, min_samples_split=10, n_estimators=100; total time=   0.1s\n",
      "[CV] END max_depth=20, min_samples_leaf=1, min_samples_split=10, n_estimators=100; total time=   0.1s\n",
      "[CV] END max_depth=20, min_samples_leaf=1, min_samples_split=10, n_estimators=100; total time=   0.1s\n",
      "[CV] END max_depth=20, min_samples_leaf=1, min_samples_split=10, n_estimators=300; total time=   0.2s\n",
      "[CV] END max_depth=20, min_samples_leaf=1, min_samples_split=10, n_estimators=300; total time=   0.2s\n",
      "[CV] END max_depth=20, min_samples_leaf=1, min_samples_split=10, n_estimators=300; total time=   0.2s\n",
      "[CV] END max_depth=20, min_samples_leaf=1, min_samples_split=10, n_estimators=500; total time=   0.4s\n",
      "[CV] END max_depth=20, min_samples_leaf=1, min_samples_split=10, n_estimators=500; total time=   0.4s\n",
      "[CV] END max_depth=20, min_samples_leaf=1, min_samples_split=10, n_estimators=500; total time=   0.4s\n",
      "[CV] END max_depth=20, min_samples_leaf=3, min_samples_split=2, n_estimators=100; total time=   0.1s\n",
      "[CV] END max_depth=20, min_samples_leaf=3, min_samples_split=2, n_estimators=100; total time=   0.1s\n",
      "[CV] END max_depth=20, min_samples_leaf=3, min_samples_split=2, n_estimators=100; total time=   0.1s\n",
      "[CV] END max_depth=20, min_samples_leaf=3, min_samples_split=2, n_estimators=300; total time=   0.2s\n",
      "[CV] END max_depth=20, min_samples_leaf=3, min_samples_split=2, n_estimators=300; total time=   0.2s\n",
      "[CV] END max_depth=20, min_samples_leaf=3, min_samples_split=2, n_estimators=300; total time=   0.2s\n",
      "[CV] END max_depth=20, min_samples_leaf=3, min_samples_split=2, n_estimators=500; total time=   0.4s\n",
      "[CV] END max_depth=20, min_samples_leaf=3, min_samples_split=2, n_estimators=500; total time=   0.4s\n",
      "[CV] END max_depth=20, min_samples_leaf=3, min_samples_split=2, n_estimators=500; total time=   0.4s\n",
      "[CV] END max_depth=20, min_samples_leaf=3, min_samples_split=5, n_estimators=100; total time=   0.1s\n",
      "[CV] END max_depth=20, min_samples_leaf=3, min_samples_split=5, n_estimators=100; total time=   0.1s\n",
      "[CV] END max_depth=20, min_samples_leaf=3, min_samples_split=5, n_estimators=100; total time=   0.1s\n",
      "[CV] END max_depth=20, min_samples_leaf=3, min_samples_split=5, n_estimators=300; total time=   0.2s\n",
      "[CV] END max_depth=20, min_samples_leaf=3, min_samples_split=5, n_estimators=300; total time=   0.2s\n",
      "[CV] END max_depth=20, min_samples_leaf=3, min_samples_split=5, n_estimators=300; total time=   0.2s\n",
      "[CV] END max_depth=20, min_samples_leaf=3, min_samples_split=5, n_estimators=500; total time=   0.4s\n",
      "[CV] END max_depth=20, min_samples_leaf=3, min_samples_split=5, n_estimators=500; total time=   0.4s\n",
      "[CV] END max_depth=20, min_samples_leaf=3, min_samples_split=5, n_estimators=500; total time=   0.4s\n",
      "[CV] END max_depth=20, min_samples_leaf=3, min_samples_split=10, n_estimators=100; total time=   0.1s\n",
      "[CV] END max_depth=20, min_samples_leaf=3, min_samples_split=10, n_estimators=100; total time=   0.1s\n",
      "[CV] END max_depth=20, min_samples_leaf=3, min_samples_split=10, n_estimators=100; total time=   0.1s\n",
      "[CV] END max_depth=20, min_samples_leaf=3, min_samples_split=10, n_estimators=300; total time=   0.2s\n",
      "[CV] END max_depth=20, min_samples_leaf=3, min_samples_split=10, n_estimators=300; total time=   0.2s\n",
      "[CV] END max_depth=20, min_samples_leaf=3, min_samples_split=10, n_estimators=300; total time=   0.2s\n",
      "[CV] END max_depth=20, min_samples_leaf=3, min_samples_split=10, n_estimators=500; total time=   0.4s\n",
      "[CV] END max_depth=20, min_samples_leaf=3, min_samples_split=10, n_estimators=500; total time=   0.4s\n",
      "[CV] END max_depth=20, min_samples_leaf=3, min_samples_split=10, n_estimators=500; total time=   0.4s\n",
      "[CV] END max_depth=20, min_samples_leaf=5, min_samples_split=2, n_estimators=100; total time=   0.1s\n",
      "[CV] END max_depth=20, min_samples_leaf=5, min_samples_split=2, n_estimators=100; total time=   0.1s\n",
      "[CV] END max_depth=20, min_samples_leaf=5, min_samples_split=2, n_estimators=100; total time=   0.1s\n",
      "[CV] END max_depth=20, min_samples_leaf=5, min_samples_split=2, n_estimators=300; total time=   0.2s\n",
      "[CV] END max_depth=20, min_samples_leaf=5, min_samples_split=2, n_estimators=300; total time=   0.2s\n",
      "[CV] END max_depth=20, min_samples_leaf=5, min_samples_split=2, n_estimators=300; total time=   0.2s\n",
      "[CV] END max_depth=20, min_samples_leaf=5, min_samples_split=2, n_estimators=500; total time=   0.4s\n",
      "[CV] END max_depth=20, min_samples_leaf=5, min_samples_split=2, n_estimators=500; total time=   0.4s\n",
      "[CV] END max_depth=20, min_samples_leaf=5, min_samples_split=2, n_estimators=500; total time=   0.4s\n",
      "[CV] END max_depth=20, min_samples_leaf=5, min_samples_split=5, n_estimators=100; total time=   0.1s\n",
      "[CV] END max_depth=20, min_samples_leaf=5, min_samples_split=5, n_estimators=100; total time=   0.1s\n",
      "[CV] END max_depth=20, min_samples_leaf=5, min_samples_split=5, n_estimators=100; total time=   0.1s\n",
      "[CV] END max_depth=20, min_samples_leaf=5, min_samples_split=5, n_estimators=300; total time=   0.2s\n",
      "[CV] END max_depth=20, min_samples_leaf=5, min_samples_split=5, n_estimators=300; total time=   0.2s\n",
      "[CV] END max_depth=20, min_samples_leaf=5, min_samples_split=5, n_estimators=300; total time=   0.2s\n",
      "[CV] END max_depth=20, min_samples_leaf=5, min_samples_split=5, n_estimators=500; total time=   0.4s\n",
      "[CV] END max_depth=20, min_samples_leaf=5, min_samples_split=5, n_estimators=500; total time=   0.4s\n",
      "[CV] END max_depth=20, min_samples_leaf=5, min_samples_split=5, n_estimators=500; total time=   0.4s\n",
      "[CV] END max_depth=20, min_samples_leaf=5, min_samples_split=10, n_estimators=100; total time=   0.1s\n",
      "[CV] END max_depth=20, min_samples_leaf=5, min_samples_split=10, n_estimators=100; total time=   0.1s\n",
      "[CV] END max_depth=20, min_samples_leaf=5, min_samples_split=10, n_estimators=100; total time=   0.1s\n",
      "[CV] END max_depth=20, min_samples_leaf=5, min_samples_split=10, n_estimators=300; total time=   0.2s\n",
      "[CV] END max_depth=20, min_samples_leaf=5, min_samples_split=10, n_estimators=300; total time=   0.2s\n",
      "[CV] END max_depth=20, min_samples_leaf=5, min_samples_split=10, n_estimators=300; total time=   0.2s\n",
      "[CV] END max_depth=20, min_samples_leaf=5, min_samples_split=10, n_estimators=500; total time=   0.4s\n",
      "[CV] END max_depth=20, min_samples_leaf=5, min_samples_split=10, n_estimators=500; total time=   0.4s\n",
      "[CV] END max_depth=20, min_samples_leaf=5, min_samples_split=10, n_estimators=500; total time=   0.4s\n"
     ]
    },
    {
     "data": {
      "text/plain": [
       "GridSearchCV(cv=3, estimator=RandomForestClassifier(random_state=0),\n",
       "             param_grid={'max_depth': [10, 15, 20],\n",
       "                         'min_samples_leaf': [1, 3, 5],\n",
       "                         'min_samples_split': [2, 5, 10],\n",
       "                         'n_estimators': [100, 300, 500]},\n",
       "             verbose=2)"
      ]
     },
     "execution_count": 36,
     "metadata": {},
     "output_type": "execute_result"
    }
   ],
   "source": [
    "rfc_grid.fit(X_train, y_train)"
   ]
  },
  {
   "cell_type": "markdown",
   "id": "330d8c1d",
   "metadata": {},
   "source": [
    "The best combination of parameters can be found using best params_attribute"
   ]
  },
  {
   "cell_type": "code",
   "execution_count": 37,
   "id": "2858de13",
   "metadata": {},
   "outputs": [
    {
     "data": {
      "text/plain": [
       "{'max_depth': 10,\n",
       " 'min_samples_leaf': 1,\n",
       " 'min_samples_split': 2,\n",
       " 'n_estimators': 500}"
      ]
     },
     "execution_count": 37,
     "metadata": {},
     "output_type": "execute_result"
    }
   ],
   "source": [
    "rfc_grid.best_params_"
   ]
  },
  {
   "cell_type": "markdown",
   "id": "3399136c",
   "metadata": {},
   "source": [
    "The best estimator can be found using the best_estimator_attribute"
   ]
  },
  {
   "cell_type": "code",
   "execution_count": 38,
   "id": "c80f0353",
   "metadata": {},
   "outputs": [
    {
     "data": {
      "text/plain": [
       "RandomForestClassifier(max_depth=10, n_estimators=500, random_state=0)"
      ]
     },
     "execution_count": 38,
     "metadata": {},
     "output_type": "execute_result"
    }
   ],
   "source": [
    "rfc_grid.best_estimator_"
   ]
  },
  {
   "cell_type": "markdown",
   "id": "6d4fd66f",
   "metadata": {},
   "source": [
    "In the same way as other model estimators, this grid object also contains a predict method. On the basis of the test data, it will be utilised to obtain predictions.\n"
   ]
  },
  {
   "cell_type": "code",
   "execution_count": 39,
   "id": "e2c1008a",
   "metadata": {},
   "outputs": [],
   "source": [
    "rfc_grid_pred = rfc_grid.predict(X_test)"
   ]
  },
  {
   "cell_type": "markdown",
   "id": "ebbfab95",
   "metadata": {},
   "source": [
    "# Evaluation "
   ]
  },
  {
   "cell_type": "markdown",
   "id": "644affef",
   "metadata": {},
   "source": [
    "Using the predictions from the grid estimator, confusion matrix and classification report will be printed below"
   ]
  },
  {
   "cell_type": "code",
   "execution_count": 40,
   "id": "37349c9c",
   "metadata": {},
   "outputs": [
    {
     "name": "stdout",
     "output_type": "stream",
     "text": [
      "[[ 5  0  2  0  0  0]\n",
      " [ 0  8  0  0  0  0]\n",
      " [ 0  0 27  0  0  0]\n",
      " [ 0  1  1 18  0  1]\n",
      " [ 0  1  0  2  2  0]\n",
      " [ 1  0  3  3  0  9]]\n"
     ]
    }
   ],
   "source": [
    "print(confusion_matrix(y_test,rfc_grid_pred))"
   ]
  },
  {
   "cell_type": "markdown",
   "id": "49018efe",
   "metadata": {},
   "source": [
    "The above-mentioned confusion matrix is overly simplistic, making it challenging to draw any conclusions from it. To better comprehend it, let's make a confusion matrix graphic using the seaborn heatmap and the target labels.\n"
   ]
  },
  {
   "cell_type": "code",
   "execution_count": 41,
   "id": "b7547835",
   "metadata": {},
   "outputs": [
    {
     "data": {
      "text/plain": [
       "array(['P', 'R', 'SO', 'SW', 'T', 'W'], dtype=object)"
      ]
     },
     "execution_count": 41,
     "metadata": {},
     "output_type": "execute_result"
    }
   ],
   "source": [
    "# list of target classes from the estimator\n",
    "rfc_grid.classes_"
   ]
  },
  {
   "cell_type": "code",
   "execution_count": 42,
   "id": "72666342",
   "metadata": {},
   "outputs": [
    {
     "data": {
      "text/plain": [
       "Text(0.5, 15.0, 'Predicted label')"
      ]
     },
     "execution_count": 42,
     "metadata": {},
     "output_type": "execute_result"
    },
    {
     "data": {
      "image/png": "[encoded data removed]",
      "text/plain": [
       "<Figure size 432x288 with 2 Axes>"
      ]
     },
     "metadata": {
      "needs_background": "light"
     },
     "output_type": "display_data"
    }
   ],
   "source": [
    "# create a variable of the confusion matrix method\n",
    "con_mat = confusion_matrix(y_test,rfc_grid_pred)\n",
    "# list of target classes\n",
    "categories = rfc_grid.classes_\n",
    "# set the size of plot\n",
    "plt.figure(figsize=(6,4))\n",
    "# heatmap function from seaborn\n",
    "sns.heatmap(con_mat, annot=True, xticklabels=categories,yticklabels=categories, cmap='Blues')\n",
    "plt.ylabel('True label')\n",
    "plt.xlabel('Predicted label')"
   ]
  },
  {
   "cell_type": "code",
   "execution_count": 43,
   "id": "69a557f2",
   "metadata": {},
   "outputs": [
    {
     "name": "stdout",
     "output_type": "stream",
     "text": [
      "              precision    recall  f1-score   support\n",
      "\n",
      "           P       0.83      0.71      0.77         7\n",
      "           R       0.80      1.00      0.89         8\n",
      "          SO       0.82      1.00      0.90        27\n",
      "          SW       0.78      0.86      0.82        21\n",
      "           T       1.00      0.40      0.57         5\n",
      "           W       0.90      0.56      0.69        16\n",
      "\n",
      "    accuracy                           0.82        84\n",
      "   macro avg       0.86      0.76      0.77        84\n",
      "weighted avg       0.84      0.82      0.81        84\n",
      "\n"
     ]
    }
   ],
   "source": [
    "print(classification_report(y_test,rfc_grid_pred))"
   ]
  },
  {
   "cell_type": "markdown",
   "id": "fbadf330",
   "metadata": {},
   "source": [
    "The Wading bird class has great precision. Every time the model predicts a wading bird, it is accurate. But there is little recall. This is due to the fact that they share a bone structure with singing and swimming birds. You can see from the above correlation matrix that it correctly predicted both of these classes three times each. Raptors have excellent precision and memory. They are simpler to distinguish because of their robust, widely spread wings. Because they vary from other birds in appearance, singing birds show high levels of precision and memory. They all resemble one another greatly and have tiny bone structures. Swimming birds and terrestrial birds have similar appearances. The recall is very low because the model consistently predicted terrestrial birds as well as aquatic birds. Additionally, there are not enough samples to draw any meaningful conclusions. \n",
    "\n",
    "As you can see, employing the Grid Search approach has improved accuracy. More data is needed for a further rise, or perhaps better feature engineering will increase accuracy. More domain expertise would also be beneficial for better feature engineering.\n"
   ]
  },
  {
   "cell_type": "code",
   "execution_count": null,
   "id": "41d71066",
   "metadata": {},
   "outputs": [],
   "source": []
  }
 ],
 "metadata": {
  "kernelspec": {
   "display_name": "Python 3",
   "language": "python",
   "name": "python3"
  },
  "language_info": {
   "codemirror_mode": {
    "name": "ipython",
    "version": 3
   },
   "file_extension": ".py",
   "mimetype": "text/x-python",
   "name": "python",
   "nbconvert_exporter": "python",
   "pygments_lexer": "ipython3",
   "version": "3.7.11"
  }
 },
 "nbformat": 4,
 "nbformat_minor": 5
}
